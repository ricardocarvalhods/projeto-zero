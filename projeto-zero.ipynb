{
 "cells": [
  {
   "cell_type": "code",
   "execution_count": 3,
   "metadata": {},
   "outputs": [
    {
     "name": "stdout",
     "output_type": "stream",
     "text": [
      "Collecting pandas\n",
      "  Using cached pandas-1.4.2-cp310-cp310-win_amd64.whl (10.6 MB)\n",
      "Requirement already satisfied: pytz>=2020.1 in c:\\users\\ricardocarvalho\\appdata\\local\\programs\\python\\python310\\lib\\site-packages (from pandas) (2022.1)\n",
      "Collecting numpy>=1.21.0\n",
      "  Using cached numpy-1.22.4-cp310-cp310-win_amd64.whl (14.7 MB)\n",
      "Requirement already satisfied: python-dateutil>=2.8.1 in c:\\users\\ricardocarvalho\\appdata\\local\\programs\\python\\python310\\lib\\site-packages (from pandas) (2.8.2)\n",
      "Requirement already satisfied: six>=1.5 in c:\\users\\ricardocarvalho\\appdata\\local\\programs\\python\\python310\\lib\\site-packages (from python-dateutil>=2.8.1->pandas) (1.16.0)\n",
      "Installing collected packages: numpy, pandas\n",
      "Successfully installed numpy-1.22.4 pandas-1.4.2\n",
      "Note: you may need to restart the kernel to use updated packages.\n"
     ]
    },
    {
     "name": "stderr",
     "output_type": "stream",
     "text": [
      "  WARNING: The script f2py.exe is installed in 'c:\\Users\\ricardocarvalho\\AppData\\Local\\Programs\\Python\\Python310\\Scripts' which is not on PATH.\n",
      "  Consider adding this directory to PATH or, if you prefer to suppress this warning, use --no-warn-script-location.\n"
     ]
    }
   ],
   "source": [
    "%pip install pandas"
   ]
  },
  {
   "cell_type": "code",
   "execution_count": 8,
   "metadata": {},
   "outputs": [],
   "source": [
    "import pandas as pd\n",
    "import unicodedata\n",
    "import re \n",
    "\n",
    "def limpar_texto(texto):\n",
    "    # Remover acentos\n",
    "    result = unicodedata.normalize('NFKD', texto).encode('ASCII', 'ignore').decode('ASCII')\n",
    "\n",
    "    # Remover caracteres especiais\n",
    "    lista = '-#?º°ª.:/;~^`[{]}\\\\|!$%\"\\'&*()=+,><\\t\\r\\n…'\n",
    "    for i in range(0, len(lista)):\n",
    "        result = result.replace(lista[i], ' ')\n",
    "\n",
    "    # Transformar em UPPER case\n",
    "    result = result.upper().strip()\n",
    "\n",
    "    return result"
   ]
  },
  {
   "cell_type": "markdown",
   "metadata": {},
   "source": [
    "### Obter dados de nomes e limpar first_name"
   ]
  },
  {
   "cell_type": "code",
   "execution_count": 5,
   "metadata": {},
   "outputs": [],
   "source": [
    "nomes = pd.read_csv(\"dados/nomes.csv\")"
   ]
  },
  {
   "cell_type": "code",
   "execution_count": 6,
   "metadata": {},
   "outputs": [
    {
     "data": {
      "text/html": [
       "<div>\n",
       "<style scoped>\n",
       "    .dataframe tbody tr th:only-of-type {\n",
       "        vertical-align: middle;\n",
       "    }\n",
       "\n",
       "    .dataframe tbody tr th {\n",
       "        vertical-align: top;\n",
       "    }\n",
       "\n",
       "    .dataframe thead th {\n",
       "        text-align: right;\n",
       "    }\n",
       "</style>\n",
       "<table border=\"1\" class=\"dataframe\">\n",
       "  <thead>\n",
       "    <tr style=\"text-align: right;\">\n",
       "      <th></th>\n",
       "      <th>alternative_names</th>\n",
       "      <th>classification</th>\n",
       "      <th>first_name</th>\n",
       "      <th>frequency_female</th>\n",
       "      <th>frequency_male</th>\n",
       "      <th>frequency_total</th>\n",
       "      <th>frequency_group</th>\n",
       "      <th>group_name</th>\n",
       "      <th>ratio</th>\n",
       "    </tr>\n",
       "  </thead>\n",
       "  <tbody>\n",
       "    <tr>\n",
       "      <th>0</th>\n",
       "      <td>AILINE|ALEINE|ALIINE|ALINE|ALINER|ALINHE|ALINN...</td>\n",
       "      <td>F</td>\n",
       "      <td>AALINE</td>\n",
       "      <td>66.0</td>\n",
       "      <td>NaN</td>\n",
       "      <td>66</td>\n",
       "      <td>530550</td>\n",
       "      <td>ALINE</td>\n",
       "      <td>1.0</td>\n",
       "    </tr>\n",
       "    <tr>\n",
       "      <th>1</th>\n",
       "      <td>ARAAO|ARAO</td>\n",
       "      <td>M</td>\n",
       "      <td>AARAO</td>\n",
       "      <td>NaN</td>\n",
       "      <td>281.0</td>\n",
       "      <td>281</td>\n",
       "      <td>3526</td>\n",
       "      <td>ARAO</td>\n",
       "      <td>1.0</td>\n",
       "    </tr>\n",
       "    <tr>\n",
       "      <th>2</th>\n",
       "      <td>AHARON|AROM|ARON|ARYON|HARON</td>\n",
       "      <td>M</td>\n",
       "      <td>AARON</td>\n",
       "      <td>NaN</td>\n",
       "      <td>676.0</td>\n",
       "      <td>676</td>\n",
       "      <td>3442</td>\n",
       "      <td>ARON</td>\n",
       "      <td>1.0</td>\n",
       "    </tr>\n",
       "    <tr>\n",
       "      <th>3</th>\n",
       "      <td>ADA|ADAH|ADAR|ADHA|HADA</td>\n",
       "      <td>F</td>\n",
       "      <td>ABA</td>\n",
       "      <td>82.0</td>\n",
       "      <td>NaN</td>\n",
       "      <td>82</td>\n",
       "      <td>5583</td>\n",
       "      <td>ADA</td>\n",
       "      <td>1.0</td>\n",
       "    </tr>\n",
       "    <tr>\n",
       "      <th>4</th>\n",
       "      <td>NaN</td>\n",
       "      <td>M</td>\n",
       "      <td>ABADE</td>\n",
       "      <td>NaN</td>\n",
       "      <td>57.0</td>\n",
       "      <td>57</td>\n",
       "      <td>57</td>\n",
       "      <td>ABADE</td>\n",
       "      <td>1.0</td>\n",
       "    </tr>\n",
       "  </tbody>\n",
       "</table>\n",
       "</div>"
      ],
      "text/plain": [
       "                                   alternative_names classification  \\\n",
       "0  AILINE|ALEINE|ALIINE|ALINE|ALINER|ALINHE|ALINN...              F   \n",
       "1                                         ARAAO|ARAO              M   \n",
       "2                       AHARON|AROM|ARON|ARYON|HARON              M   \n",
       "3                            ADA|ADAH|ADAR|ADHA|HADA              F   \n",
       "4                                                NaN              M   \n",
       "\n",
       "  first_name  frequency_female  frequency_male  frequency_total  \\\n",
       "0     AALINE              66.0             NaN               66   \n",
       "1      AARAO               NaN           281.0              281   \n",
       "2      AARON               NaN           676.0              676   \n",
       "3        ABA              82.0             NaN               82   \n",
       "4      ABADE               NaN            57.0               57   \n",
       "\n",
       "   frequency_group group_name  ratio  \n",
       "0           530550      ALINE    1.0  \n",
       "1             3526       ARAO    1.0  \n",
       "2             3442       ARON    1.0  \n",
       "3             5583        ADA    1.0  \n",
       "4               57      ABADE    1.0  "
      ]
     },
     "execution_count": 6,
     "metadata": {},
     "output_type": "execute_result"
    }
   ],
   "source": [
    "nomes.head()"
   ]
  },
  {
   "cell_type": "code",
   "execution_count": 9,
   "metadata": {},
   "outputs": [],
   "source": [
    "nomes.first_name = nomes.first_name.apply(limpar_texto)"
   ]
  },
  {
   "cell_type": "markdown",
   "metadata": {},
   "source": [
    "### Obter meu nome e limpar"
   ]
  },
  {
   "cell_type": "code",
   "execution_count": 10,
   "metadata": {},
   "outputs": [],
   "source": [
    "meu_nome = \"Ricardo\""
   ]
  },
  {
   "cell_type": "code",
   "execution_count": 11,
   "metadata": {},
   "outputs": [
    {
     "data": {
      "text/plain": [
       "'RICARDO'"
      ]
     },
     "execution_count": 11,
     "metadata": {},
     "output_type": "execute_result"
    }
   ],
   "source": [
    "meu_nome = limpar_texto(meu_nome)\n",
    "meu_nome"
   ]
  },
  {
   "cell_type": "markdown",
   "metadata": {},
   "source": [
    "### Achar meu nome nos dados de nomes"
   ]
  },
  {
   "cell_type": "code",
   "execution_count": 13,
   "metadata": {},
   "outputs": [
    {
     "data": {
      "text/plain": [
       "alternative_names    RIICARDO|RIKARDO|RYCARDO\n",
       "classification                              M\n",
       "first_name                            RICARDO\n",
       "frequency_female                       1868.0\n",
       "frequency_male                       467835.0\n",
       "frequency_total                        469703\n",
       "frequency_group                        469796\n",
       "group_name                            RICARDO\n",
       "ratio                                0.996023\n",
       "Name: 69474, dtype: object"
      ]
     },
     "execution_count": 13,
     "metadata": {},
     "output_type": "execute_result"
    }
   ],
   "source": [
    "linha = nomes[nomes.first_name == meu_nome].iloc[0]\n",
    "linha"
   ]
  },
  {
   "cell_type": "markdown",
   "metadata": {},
   "source": [
    "### Imprimir saida"
   ]
  },
  {
   "cell_type": "code",
   "execution_count": 19,
   "metadata": {},
   "outputs": [
    {
     "name": "stdout",
     "output_type": "stream",
     "text": [
      "Nome: RICARDO \n",
      "Genero: M \n",
      "Probabilidade: 0.9960230188012424 \n",
      "Nomes alternativos: RIICARDO|RIKARDO|RYCARDO\n"
     ]
    }
   ],
   "source": [
    "texto_saida = f\"Nome: {linha.first_name} \\nGenero: {linha.classification} \\nProbabilidade: {linha.ratio} \\nNomes alternativos: {linha.alternative_names}\"\n",
    "print(texto_saida)"
   ]
  },
  {
   "cell_type": "code",
   "execution_count": null,
   "metadata": {},
   "outputs": [],
   "source": []
  }
 ],
 "metadata": {
  "interpreter": {
   "hash": "f36daeb7225a5f49e7985264c1867ee4fc8559f08db2603f26ff29dcc1e03090"
  },
  "kernelspec": {
   "display_name": "Python 3.10.4 64-bit",
   "language": "python",
   "name": "python3"
  },
  "language_info": {
   "codemirror_mode": {
    "name": "ipython",
    "version": 3
   },
   "file_extension": ".py",
   "mimetype": "text/x-python",
   "name": "python",
   "nbconvert_exporter": "python",
   "pygments_lexer": "ipython3",
   "version": "3.10.4"
  },
  "orig_nbformat": 4
 },
 "nbformat": 4,
 "nbformat_minor": 2
}
